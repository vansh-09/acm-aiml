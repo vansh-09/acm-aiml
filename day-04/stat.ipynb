{
 "cells": [
  {
   "cell_type": "code",
   "execution_count": 26,
   "id": "9c1ae9a1",
   "metadata": {},
   "outputs": [],
   "source": [
    "import pandas as pd\n",
    "import numpy as np\n",
    "from scipy import stats"
   ]
  },
  {
   "cell_type": "code",
   "execution_count": 27,
   "id": "0c6dd38a",
   "metadata": {},
   "outputs": [],
   "source": [
    "df = pd.read_csv('Titanic-Dataset.csv')"
   ]
  },
  {
   "cell_type": "code",
   "execution_count": 28,
   "id": "7ddaf8de",
   "metadata": {},
   "outputs": [
    {
     "name": "stdout",
     "output_type": "stream",
     "text": [
      "Mean Age: 29.69911764705882\n",
      "Median Age: 28.0\n",
      "Mode Age: 24.0\n"
     ]
    }
   ],
   "source": [
    "print(\"Mean Age:\", df['Age'].mean())\n",
    "print(\"Median Age:\", df['Age'].median())\n",
    "print(\"Mode Age:\", df['Age'].mode()[0])"
   ]
  },
  {
   "cell_type": "code",
   "execution_count": 29,
   "id": "f63dd75e",
   "metadata": {},
   "outputs": [
    {
     "data": {
      "text/html": [
       "<div>\n",
       "<style scoped>\n",
       "    .dataframe tbody tr th:only-of-type {\n",
       "        vertical-align: middle;\n",
       "    }\n",
       "\n",
       "    .dataframe tbody tr th {\n",
       "        vertical-align: top;\n",
       "    }\n",
       "\n",
       "    .dataframe thead th {\n",
       "        text-align: right;\n",
       "    }\n",
       "</style>\n",
       "<table border=\"1\" class=\"dataframe\">\n",
       "  <thead>\n",
       "    <tr style=\"text-align: right;\">\n",
       "      <th></th>\n",
       "      <th>Age</th>\n",
       "      <th>Fare</th>\n",
       "    </tr>\n",
       "  </thead>\n",
       "  <tbody>\n",
       "    <tr>\n",
       "      <th>Age</th>\n",
       "      <td>1.000000</td>\n",
       "      <td>0.096067</td>\n",
       "    </tr>\n",
       "    <tr>\n",
       "      <th>Fare</th>\n",
       "      <td>0.096067</td>\n",
       "      <td>1.000000</td>\n",
       "    </tr>\n",
       "  </tbody>\n",
       "</table>\n",
       "</div>"
      ],
      "text/plain": [
       "           Age      Fare\n",
       "Age   1.000000  0.096067\n",
       "Fare  0.096067  1.000000"
      ]
     },
     "execution_count": 29,
     "metadata": {},
     "output_type": "execute_result"
    }
   ],
   "source": [
    "df[['Age','Fare']].corr()"
   ]
  },
  {
   "cell_type": "code",
   "execution_count": null,
   "id": "bc62ba9c",
   "metadata": {},
   "outputs": [
    {
     "name": "stdout",
     "output_type": "stream",
     "text": [
      "t-stats: -18.67183317725917\n",
      "p-value: 2.2836009226010533e-61\n"
     ]
    }
   ],
   "source": [
    "print(\"t-stats:\", t_stat)\n",
    "print(\"p-value:\", p_val)"
   ]
  },
  {
   "cell_type": "code",
   "execution_count": 31,
   "id": "0899759f",
   "metadata": {},
   "outputs": [
    {
     "name": "stdout",
     "output_type": "stream",
     "text": [
      "reject null hypothesis \n"
     ]
    }
   ],
   "source": [
    "alpha = 0.05\n",
    "\n",
    "if p_val < alpha:\n",
    "    print(\"reject null hypothesis \")\n",
    "else:\n",
    "    print(\"fail to reject null hypothesis \")"
   ]
  },
  {
   "cell_type": "code",
   "execution_count": 34,
   "id": "ce8c1a6d",
   "metadata": {},
   "outputs": [
    {
     "name": "stdout",
     "output_type": "stream",
     "text": [
      "Chi2 Statistic: 102.88898875696056\n",
      "p-value: 4.549251711298793e-23\n",
      "Survival was dependent on passenger class (1st class survived more than 3rd).\n"
     ]
    }
   ],
   "source": [
    "from scipy.stats import chi2_contingency\n",
    "\n",
    "contingency_table = pd.crosstab(df['Survived'], df['Pclass'])\n",
    "chi2, p, dof, expected = chi2_contingency(contingency_table)\n",
    "\n",
    "print(\"Chi2 Statistic:\", chi2)\n",
    "print(\"p-value:\", p)\n",
    "\n",
    "if p < alpha:\n",
    "    print(\"Survival was dependent on passenger class (1st class survived more than 3rd).\")\n",
    "else:\n",
    "    print(\"Survival was independent of passenger class.\")"
   ]
  },
  {
   "cell_type": "code",
   "execution_count": null,
   "id": "89c527d3",
   "metadata": {},
   "outputs": [],
   "source": []
  }
 ],
 "metadata": {
  "kernelspec": {
   "display_name": "Python 3",
   "language": "python",
   "name": "python3"
  },
  "language_info": {
   "codemirror_mode": {
    "name": "ipython",
    "version": 3
   },
   "file_extension": ".py",
   "mimetype": "text/x-python",
   "name": "python",
   "nbconvert_exporter": "python",
   "pygments_lexer": "ipython3",
   "version": "3.12.4"
  }
 },
 "nbformat": 4,
 "nbformat_minor": 5
}
