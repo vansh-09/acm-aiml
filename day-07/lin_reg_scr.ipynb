{
 "cells": [
  {
   "cell_type": "code",
   "execution_count": 1,
   "id": "95232c47",
   "metadata": {},
   "outputs": [],
   "source": [
    "import numpy as np\n",
    "from sklearn.linear_model import LinearRegression\n",
    "from sklearn.metrics import r2_score"
   ]
  },
  {
   "cell_type": "code",
   "execution_count": 2,
   "id": "a2d6f1a3",
   "metadata": {},
   "outputs": [],
   "source": [
    "class Lin_Reg:\n",
    "    def __init__(self):\n",
    "        self.coeffs = None\n",
    "    \n",
    "    def fit(self, X, y):\n",
    "        X_b = np.c_[np.ones((X.shape[0], 1)), X]\n",
    "        self.coeffs = np.linalg.inv(X_b.T.dot(X_b)).dot(X_b.T).dot(y)\n",
    "    \n",
    "    def predict(self, X):\n",
    "        X_b = np.c_[np.ones((X.shape[0], 1)), X]\n",
    "        return X_b.dot(self.coeffs)\n",
    "    \n",
    "    def r2_score(self, y_true, y_pred):\n",
    "        ss_res = np.sum((y_true - y_pred) ** 2)\n",
    "        ss_tot = np.sum((y_true - np.mean(y_true)) ** 2)\n",
    "        return 1 - (ss_res / ss_tot)"
   ]
  },
  {
   "cell_type": "code",
   "execution_count": 4,
   "id": "a38f839b",
   "metadata": {},
   "outputs": [
    {
     "name": "stdout",
     "output_type": "stream",
     "text": [
      "R² Score: 0.8198656845753898\n"
     ]
    }
   ],
   "source": [
    "X = np.array([[1], [2], [3], [4], [5]])   \n",
    "y = np.array([1.5, 3.7, 2.9, 4.8, 5.3])    \n",
    "\n",
    "model = Lin_Reg()\n",
    "model.fit(X, y)\n",
    "preds = model.predict(X)\n",
    "\n",
    "print(\"R² Score:\", model.r2_score(y, preds))"
   ]
  },
  {
   "cell_type": "code",
   "execution_count": 5,
   "id": "9943e82a",
   "metadata": {},
   "outputs": [
    {
     "name": "stdout",
     "output_type": "stream",
     "text": [
      "Scikit-learn Results:\n",
      "R2 Score: 0.81986568457539\n"
     ]
    }
   ],
   "source": [
    "lin = LinearRegression()\n",
    "lin.fit(X, y)\n",
    "sk_preds = lin.predict(X)\n",
    "\n",
    "print(\"Scikit-learn Results:\")\n",
    "print(\"R2 Score:\", r2_score(y, sk_preds))"
   ]
  },
  {
   "cell_type": "code",
   "execution_count": null,
   "id": "ecf34608",
   "metadata": {},
   "outputs": [],
   "source": []
  }
 ],
 "metadata": {
  "kernelspec": {
   "display_name": "Python 3",
   "language": "python",
   "name": "python3"
  },
  "language_info": {
   "codemirror_mode": {
    "name": "ipython",
    "version": 3
   },
   "file_extension": ".py",
   "mimetype": "text/x-python",
   "name": "python",
   "nbconvert_exporter": "python",
   "pygments_lexer": "ipython3",
   "version": "3.12.4"
  }
 },
 "nbformat": 4,
 "nbformat_minor": 5
}
