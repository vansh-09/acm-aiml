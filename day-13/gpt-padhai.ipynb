{
 "cells": [
  {
   "cell_type": "code",
   "execution_count": 1,
   "id": "39e770a8",
   "metadata": {},
   "outputs": [],
   "source": [
    "# -------------------------------\n",
    "# Imports\n",
    "# -------------------------------\n",
    "import pandas as pd\n",
    "from sklearn.datasets import load_iris\n",
    "from sklearn.model_selection import train_test_split\n",
    "from sklearn.metrics import accuracy_score\n",
    "\n",
    "# Base models\n",
    "from sklearn.tree import DecisionTreeClassifier\n",
    "from sklearn.ensemble import RandomForestClassifier, VotingClassifier, StackingClassifier\n",
    "from sklearn.linear_model import LogisticRegression\n",
    "from sklearn.svm import SVC\n",
    "\n",
    "# Boosting\n",
    "from xgboost import XGBClassifier"
   ]
  },
  {
   "cell_type": "code",
   "execution_count": 2,
   "id": "323b9bd7",
   "metadata": {},
   "outputs": [],
   "source": [
    "# -------------------------------\n",
    "# Load dataset\n",
    "# -------------------------------\n",
    "iris = load_iris()\n",
    "X, y = iris.data, iris.target"
   ]
  },
  {
   "cell_type": "code",
   "execution_count": 3,
   "id": "74b90fbf",
   "metadata": {},
   "outputs": [],
   "source": [
    "\n",
    "X_train, X_test, y_train, y_test = train_test_split(\n",
    "    X, y, test_size=0.3, random_state=42, stratify=y\n",
    ")"
   ]
  },
  {
   "cell_type": "markdown",
   "id": "f371ac55",
   "metadata": {},
   "source": [
    "# 🌳 1. Decision Tree (Baseline)\n",
    "\n",
    "Pros ✅\n",
    "\t•\tEasy to interpret.\n",
    "\t•\tFast and simple.\n",
    "\t•\tHandles non-linear data.\n",
    "\n",
    "Cons ❌\n",
    "\t•\tHigh variance (overfits easily).\n",
    "\t•\tNot as accurate alone compared to ensembles."
   ]
  },
  {
   "cell_type": "code",
   "execution_count": 5,
   "id": "10a58aaf",
   "metadata": {},
   "outputs": [
    {
     "name": "stdout",
     "output_type": "stream",
     "text": [
      "Decision Tree Accuracy: 0.9333333333333333\n"
     ]
    }
   ],
   "source": [
    "dt = DecisionTreeClassifier(random_state=42)\n",
    "dt.fit(X_train, y_train)\n",
    "y_pred_dt = dt.predict(X_test)\n",
    "\n",
    "print(\"Decision Tree Accuracy:\", accuracy_score(y_test, y_pred_dt))"
   ]
  },
  {
   "cell_type": "markdown",
   "id": "20f27a3d",
   "metadata": {},
   "source": [
    "# 🌲 2. Random Forest (Bagging)\n",
    "\n",
    "Pros ✅\n",
    "\t•\tReduces overfitting (bagging many trees).\n",
    "\t•\tMore stable than single decision tree.\n",
    "\t•\tWorks well in most tasks.\n",
    "\n",
    "Cons ❌\n",
    "\t•\tLess interpretable than a single tree.\n",
    "\t•\tCan be computationally expensive with many trees."
   ]
  },
  {
   "cell_type": "code",
   "execution_count": 6,
   "id": "9122f1f2",
   "metadata": {},
   "outputs": [
    {
     "name": "stdout",
     "output_type": "stream",
     "text": [
      "Random Forest Accuracy: 0.8888888888888888\n"
     ]
    }
   ],
   "source": [
    "rf = RandomForestClassifier(n_estimators=100, random_state=42)\n",
    "rf.fit(X_train, y_train)\n",
    "y_pred_rf = rf.predict(X_test)\n",
    "\n",
    "print(\"Random Forest Accuracy:\", accuracy_score(y_test, y_pred_rf))"
   ]
  },
  {
   "cell_type": "markdown",
   "id": "3355da1b",
   "metadata": {},
   "source": [
    "# 🔥 3. XGBoost (Boosting)\n",
    "\n",
    "Pros ✅\n",
    "\t•\tOften the most accurate in practice (used in Kaggle wins).\n",
    "\t•\tHandles bias and variance very well.\n",
    "\t•\tBuilt-in regularization to prevent overfitting.\n",
    "\n",
    "Cons ❌\n",
    "\t•\tMore complex to tune.\n",
    "\t•\tTraining can be slower than Random Forest."
   ]
  },
  {
   "cell_type": "code",
   "execution_count": 9,
   "id": "e4be7f40",
   "metadata": {},
   "outputs": [
    {
     "name": "stdout",
     "output_type": "stream",
     "text": [
      "XGBoost Accuracy: 0.9333333333333333\n"
     ]
    }
   ],
   "source": [
    "xgb = XGBClassifier(eval_metric='mlogloss', random_state=42)\n",
    "xgb.fit(X_train, y_train)\n",
    "y_pred_xgb = xgb.predict(X_test)\n",
    "\n",
    "print(\"XGBoost Accuracy:\", accuracy_score(y_test, y_pred_xgb))"
   ]
  },
  {
   "cell_type": "markdown",
   "id": "1ea9dfba",
   "metadata": {},
   "source": [
    "# 🗳️ 4. Voting Classifier\n",
    "\n",
    "Pros ✅\n",
    "\t•\tCombines different model types (diversity = strength).\n",
    "\t•\tReduces risk of relying on one weak model.\n",
    "\n",
    "Cons ❌\n",
    "\t•\tNo learning about how much weight to give each model (just averages).\n",
    "\t•\tCan underperform if base models are too similar.\n",
    "\n",
    "\n"
   ]
  },
  {
   "cell_type": "code",
   "execution_count": 10,
   "id": "f2b66288",
   "metadata": {},
   "outputs": [
    {
     "name": "stdout",
     "output_type": "stream",
     "text": [
      "Voting Classifier Accuracy: 0.9555555555555556\n"
     ]
    }
   ],
   "source": [
    "log_clf = LogisticRegression(max_iter=1000, random_state=42)\n",
    "svm_clf = SVC(probability=True, random_state=42)\n",
    "dt_clf = DecisionTreeClassifier(random_state=42)\n",
    "\n",
    "voting_clf = VotingClassifier(\n",
    "    estimators=[('lr', log_clf), ('svm', svm_clf), ('dt', dt_clf)],\n",
    "    voting='soft'   # soft = based on probabilities, better than hard majority vote\n",
    ")\n",
    "voting_clf.fit(X_train, y_train)\n",
    "y_pred_vote = voting_clf.predict(X_test)\n",
    "\n",
    "print(\"Voting Classifier Accuracy:\", accuracy_score(y_test, y_pred_vote))"
   ]
  },
  {
   "cell_type": "markdown",
   "id": "e27f023b",
   "metadata": {},
   "source": [
    "# 🏗️ 5. Stacking Classifier\n",
    "\n",
    "Pros ✅\n",
    "\t•\tMeta-model learns which base model to trust more.\n",
    "\t•\tOften best performance when base models are diverse.\n",
    "\n",
    "Cons ❌\n",
    "\t•\tMore complex & slower (nested models).\n",
    "\t•\tHarder to interpret.\n"
   ]
  },
  {
   "cell_type": "code",
   "execution_count": 11,
   "id": "fc6138c2",
   "metadata": {},
   "outputs": [
    {
     "name": "stdout",
     "output_type": "stream",
     "text": [
      "Stacking Classifier Accuracy: 0.9555555555555556\n"
     ]
    }
   ],
   "source": [
    "estimators = [\n",
    "    ('rf', RandomForestClassifier(n_estimators=50, random_state=42)),\n",
    "    ('svm', SVC(probability=True, random_state=42))\n",
    "]\n",
    "\n",
    "stack_clf = StackingClassifier(\n",
    "    estimators=estimators,\n",
    "    final_estimator=LogisticRegression(max_iter=1000, random_state=42)\n",
    ")\n",
    "stack_clf.fit(X_train, y_train)\n",
    "y_pred_stack = stack_clf.predict(X_test)\n",
    "\n",
    "print(\"Stacking Classifier Accuracy:\", accuracy_score(y_test, y_pred_stack))"
   ]
  },
  {
   "cell_type": "markdown",
   "id": "1e6cdae7",
   "metadata": {},
   "source": [
    "# Final Results"
   ]
  },
  {
   "cell_type": "code",
   "execution_count": 12,
   "id": "4d0a554e",
   "metadata": {},
   "outputs": [
    {
     "name": "stdout",
     "output_type": "stream",
     "text": [
      "               Accuracy\n",
      "Decision Tree  0.933333\n",
      "Random Forest  0.888889\n",
      "XGBoost        0.933333\n",
      "Voting         0.955556\n",
      "Stacking       0.955556\n"
     ]
    }
   ],
   "source": [
    "results = {\n",
    "    \"Decision Tree\": accuracy_score(y_test, y_pred_dt),\n",
    "    \"Random Forest\": accuracy_score(y_test, y_pred_rf),\n",
    "    \"XGBoost\": accuracy_score(y_test, y_pred_xgb),\n",
    "    \"Voting\": accuracy_score(y_test, y_pred_vote),\n",
    "    \"Stacking\": accuracy_score(y_test, y_pred_stack)\n",
    "}\n",
    "\n",
    "df_results = pd.DataFrame.from_dict(results, orient='index', columns=['Accuracy'])\n",
    "print(df_results)"
   ]
  },
  {
   "cell_type": "code",
   "execution_count": null,
   "id": "ac611cd7",
   "metadata": {},
   "outputs": [],
   "source": []
  }
 ],
 "metadata": {
  "kernelspec": {
   "display_name": "Python 3",
   "language": "python",
   "name": "python3"
  },
  "language_info": {
   "codemirror_mode": {
    "name": "ipython",
    "version": 3
   },
   "file_extension": ".py",
   "mimetype": "text/x-python",
   "name": "python",
   "nbconvert_exporter": "python",
   "pygments_lexer": "ipython3",
   "version": "3.12.4"
  }
 },
 "nbformat": 4,
 "nbformat_minor": 5
}
